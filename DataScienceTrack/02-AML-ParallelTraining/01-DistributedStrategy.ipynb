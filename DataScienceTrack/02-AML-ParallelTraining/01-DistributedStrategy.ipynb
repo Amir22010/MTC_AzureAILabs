{
 "cells": [
  {
   "cell_type": "markdown",
   "metadata": {},
   "source": [
    "# Parallel Training on Multi-GPU VM using Tensorflow"
   ]
  },
  {
   "cell_type": "code",
   "execution_count": 3,
   "metadata": {},
   "outputs": [],
   "source": [
    "import os\n",
    "\n",
    "data_folder = 'datasets'\n",
    "os.makedirs(data_folder, exist_ok=True)"
   ]
  },
  {
   "cell_type": "code",
   "execution_count": 4,
   "metadata": {},
   "outputs": [
    {
     "name": "stderr",
     "output_type": "stream",
     "text": [
      "2018-10-17 17:33:55 URL:https://azureailabs.blob.core.windows.net/aerialtfrecords/aerialsmall_train.tfrecords [532325045/532325045] -> \"aerialsmall_train.tfrecords\" [1]\n",
      "2018-10-17 17:33:59 URL:https://azureailabs.blob.core.windows.net/aerialtfrecords/aerialsmall_valid.tfrecords [93062766/93062766] -> \"aerialsmall_valid.tfrecords\" [1]\n"
     ]
    }
   ],
   "source": [
    "%%sh\n",
    "  njIl9lb   o66b.core.windows.net/aerialtfrecords/aerialsmall_valid.tfrecords"
   ]
  },
  {
   "cell_type": "code",
   "execution_count": 1,
   "metadata": {},
   "outputs": [
    {
     "data": {
      "text/plain": [
       "'1.11.0'"
      ]
     },
     "execution_count": 1,
     "metadata": {},
     "output_type": "execute_result"
    }
   ],
   "source": [
    "import tensorflow as tf\n",
    "\n",
    "tf.__version__"
   ]
  },
  {
   "cell_type": "code",
   "execution_count": 2,
   "metadata": {},
   "outputs": [],
   "source": [
    "# Returns a dataset based on a list of TFRecords files passsed as a parameters. \n",
    "def create_dataset(files, batch_size=32, train=True, buffer_size=10000):\n",
    "  IMAGE_SHAPE = (224, 224, 3,)\n",
    "  NUM_CLASSES = 6\n",
    "    \n",
    "  def scale_image(image):\n",
    "      image = image / 127.5\n",
    "      image = image - 1.\n",
    "      return image\n",
    "    \n",
    "  def _parse(example_proto):\n",
    "    features = {'label': tf.FixedLenFeature((), tf.int64, default_value=0),\n",
    "                'image': tf.FixedLenFeature((), tf.string, default_value=\"\")}\n",
    "    parsed_features = tf.parse_single_example(example_proto, features)\n",
    "    label = parsed_features['label']\n",
    "    #label = tf.one_hot(label, NUM_CLASSES)\n",
    "    image = image = tf.decode_raw(parsed_features['image'], tf.uint8)\n",
    "    image = tf.cast(image, tf.float32)\n",
    "    #image = scale_image(image)\n",
    "    image = tf.reshape(image, IMAGE_SHAPE)\n",
    "    return image, label\n",
    "  \n",
    "  dataset = tf.data.TFRecordDataset(files)\n",
    "  #dataset = dataset.map(_parse)\n",
    "  #if train:\n",
    "  #  dataset = dataset.shuffle(buffer_size)\n",
    "  #dataset = dataset.batch(batch_size)\n",
    "  #dataset = dataset.repeat()\n",
    "  return dataset\n",
    "    "
   ]
  },
  {
   "cell_type": "code",
   "execution_count": 4,
   "metadata": {},
   "outputs": [],
   "source": [
    "files = ['aerialsmall_train_tfrecords']\n",
    "\n",
    "dataset = create_dataset(files)"
   ]
  },
  {
   "cell_type": "code",
   "execution_count": 6,
   "metadata": {},
   "outputs": [
    {
     "ename": "AttributeError",
     "evalue": "'TFRecordDataset' object has no attribute 'make_oneshot_iterator'",
     "output_type": "error",
     "traceback": [
      "\u001b[0;31m---------------------------------------------------------------------------\u001b[0m",
      "\u001b[0;31mAttributeError\u001b[0m                            Traceback (most recent call last)",
      "\u001b[0;32m<ipython-input-6-51771a058fed>\u001b[0m in \u001b[0;36m<module>\u001b[0;34m()\u001b[0m\n\u001b[0;32m----> 1\u001b[0;31m \u001b[0miterator\u001b[0m \u001b[0;34m=\u001b[0m \u001b[0mdataset\u001b[0m\u001b[0;34m.\u001b[0m\u001b[0mmake_oneshot_iterator\u001b[0m\u001b[0;34m(\u001b[0m\u001b[0;34m)\u001b[0m\u001b[0;34m\u001b[0m\u001b[0m\n\u001b[0m",
      "\u001b[0;31mAttributeError\u001b[0m: 'TFRecordDataset' object has no attribute 'make_oneshot_iterator'"
     ]
    }
   ],
   "source": [
    "iterator = dataset.make_oneshot_iterator()"
   ]
  },
  {
   "cell_type": "code",
   "execution_count": null,
   "metadata": {},
   "outputs": [],
   "source": [
    "with tf.Session() as sess:\n",
    "    "
   ]
  }
 ],
 "metadata": {
  "kernelspec": {
   "display_name": "Python 3",
   "language": "python",
   "name": "python3"
  },
  "language_info": {
   "codemirror_mode": {
    "name": "ipython",
    "version": 3
   },
   "file_extension": ".py",
   "mimetype": "text/x-python",
   "name": "python",
   "nbconvert_exporter": "python",
   "pygments_lexer": "ipython3",
   "version": "3.6.6"
  }
 },
 "nbformat": 4,
 "nbformat_minor": 2
}
