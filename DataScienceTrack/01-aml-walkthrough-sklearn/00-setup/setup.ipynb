{
 "cells": [
  {
   "cell_type": "markdown",
   "metadata": {},
   "source": [
    "# Part 0 - Overview and Setup\n",
    "This series of hands-on labs demonstrates how to orchestrate an end-to-end machine learning worklow using Azure Machine Learning service.\n",
    "\n",
    "\n",
    "## Scenario\n",
    "\n",
    "You will train a custom image classification model to automatically classify the type of land shown in aerial images of 224-meter x 224-meter plots. Land use classification models can be used to track urbanization, deforestation, loss of wetlands, and other major environmental trends using periodically collected aerial imagery. The images used in this lab are based off of imagery from the U.S. National Land Cover Database. U.S. National Land Cover Database defines six primary classes of land use: *Developed*, *Barren*, *Forested*, *Grassland*, *Shrub*, *Cultivated*. Example images from each land use class are shown here:\n",
    "\n",
    "Developed | Cultivated | Barren\n",
    "--------- | ------ | ----------\n",
    "![Developed](https://github.com/jakazmie/images-for-hands-on-labs/raw/master/developed1.png) | ![Cultivated](https://github.com/jakazmie/images-for-hands-on-labs/raw/master/cultivated1.png) | ![Barren](https://github.com/jakazmie/images-for-hands-on-labs/raw/master/barren1.png)\n",
    "\n",
    "Forested | Grassland | Shrub\n",
    "---------| ----------| -----\n",
    "![Forested](https://github.com/jakazmie/images-for-hands-on-labs/raw/master/forest1.png) | ![Grassland](https://github.com/jakazmie/images-for-hands-on-labs/raw/master/grassland1.png) | ![Shrub](https://github.com/jakazmie/images-for-hands-on-labs/raw/master/shrub1.png)\n",
    "\n",
    "After an initial experimentation with simple classification models, you shall employ a machine learning technique called transfer learning. Transfer learning is one of the fastest (code and run-time-wise) ways to start using deep learning. It allows for the reuse of knowledge gained while solving one problem to a different but related problem. For example, knowledge gained while learning to recognize landmarks and landscapes could apply when trying to recognize aerial land plots. Transfer Learning makes it feasible to train very effective ML models on relatively small training data sets.\n",
    "\n",
    "Although the primary goal of this lab is to understand how to use Azure ML to orchestrate machine learning workflows rather then to dive into Deep Learning techniques, ask the instructor if you want to better understand the approach utilized in the lab.\n"
   ]
  },
  {
   "cell_type": "markdown",
   "metadata": {},
   "source": [
    "## Labs\n",
    "\n",
    "The labs cover a number of techniques applied when training and deploying nontrivial machine learning models.\n",
    "\n",
    "- Experimentation in a local development environment.\n",
    "\n",
    "- Tracking performance measures, logs and other artifacts generated during training.\n",
    "\n",
    "- Executing computationally expensive workloads on Azure AI infrastructure\n",
    "\n",
    "- Feature extraction with pretrained Deep Neural Networks. \n",
    "\n",
    "- Model selection with `Automated ML`.\n",
    "\n",
    "- Scale-out hyper-parameter tuning with `Hyperdrive`.\n",
    "\n",
    "- Model tracking and model operationalization\n",
    "\n",
    "\n",
    "Each lab runs as a Jupyter notebook:\n",
    "\n",
    "* Lab 1 - Experimenation in a local environment\n",
    "* Lab 2 - Feature extraction using a remote GPU VM\n",
    "* Lab 3 - Training on a remote VM\n",
    "* Lab 4 - Model selection with Automated ML\n",
    "* Lab 5 - Scale-out hyper-parameter tuning with Hyperdrive\n",
    "* Lab 6 - Model operationalization in ACI\n",
    "* Lab 7 - Model operationalization in AKS\n",
    "\n"
   ]
  },
  {
   "cell_type": "markdown",
   "metadata": {},
   "source": [
    "\n",
    "## What is Azure Machine Learning service?\n",
    "\n",
    "Azure Machine Learning service is a cloud service that you can use to develop and deploy machine learning models. Using Azure Machine Learning service, you can track your models as you build, train, deploy, and manage them, all at the broad scale that the cloud provides.\n",
    "\n",
    "Azure Machine Learning service fully supports open-source technologies, so you can use tens of thousands of open-source Python packages with machine learning components such as TensorFlow, PyTorch, MXNet and scikit-learn. \n",
    "\n",
    "In this lab, you are going to use `scikit-learn` and `tensorflow.keras`.\n",
    "\n",
    "Azure Machine Learning service helps you orchestrate machine learning workflows using the architecture depicted on the below diagram.\n",
    "\n",
    "![AML workflow](https://github.com/jakazmie/images-for-hands-on-labs/raw/master/amlarch.png)\n",
    "\n",
    "\n",
    "1. Data preparation and model training logic are coded as Python scripts utilizing any the hundreds of supported libraries and frameworks. The scripts can be instrumented with AML API calls to help with capturing and managing records of training runs, such as performance measures, logs, serialized models, etc.\n",
    "\n",
    "2. The scripts can execute in your local environment or on a remote Compute Target. You would usually do code development and debugging in your local environment using a small development dataset and train on a full training dataset on a remote Compute Target. The primary remote targets are Azure VMs and Azure Batch AI clusters. The training and validation data accessed by Compute Targets is stored in AML Datastores that are backed up by Azure Blob Storage or Azure Data Lake.\n",
    "\n",
    "3. As you run training iterations - a.k.a. runs - run records are stored in Azure ML service Experiment. You can query the Experiment's content using Python APIs or browser through it using Azure Portal.\n",
    "\n",
    "4. When your model is ready for deployment you register it in Model Registry. Model Registry maintains versions of the model including the model's serialized files and metadata.\n",
    "\n",
    "5. Depending on you deployment target, AML will create an optimized docker image and store it in private Azure Container Registry. The image includes the model, the scoring file to invoke the model, and all required runtime dependencies.\n",
    "\n",
    "6. The image can be deployed to any of the supported targets including Azure Container Instance, Azure Kubernetes Services, or Azure IoT Edge. \n",
    "\n",
    "\n",
    "All Azure ML components are managed within a top level container - Azure Machine Learning Workspace. \n",
    "\n"
   ]
  },
  {
   "cell_type": "markdown",
   "metadata": {},
   "source": [
    "\n",
    "## Create Azure Machine Learning Workspace\n",
    "\n",
    "Before you can start the labs, you need to provision Azure Machine Learning Workspace.  You can create AML Workspace using AML Python SDK, AML CLI, or Azure Portal. We will use Python SDK.\n",
    "\n",
    "Replace the placeholders in the code below with your values for Azure subscription ID, a workspace name, a resource group name, and a region. When you execute the cell you will be asked to log in to Azure. Follow the printed instructions and use your Azure credentials to complete authentication.\n"
   ]
  },
  {
   "cell_type": "markdown",
   "metadata": {},
   "source": [
    "***Note. We have observed issues with Python SDK `Workspace` API. As a temporary workaround, create the workspace in Azure Portal and then execute the below cell.***\n",
    "\n",
    "***Use this URL to create the workspace in Azure Portal***\n",
    "\n",
    "https://ms.portal.azure.com/#create/Microsoft.MachineLearningServices"
   ]
  },
  {
   "cell_type": "code",
   "execution_count": 1,
   "metadata": {},
   "outputs": [
    {
     "name": "stderr",
     "output_type": "stream",
     "text": [
      "To sign in, use a web browser to open the page https://microsoft.com/devicelogin and enter the code FLTSFJFAV to authenticate.\n"
     ]
    },
    {
     "name": "stdout",
     "output_type": "stream",
     "text": [
      "Performing interactive authentication. Please follow the instructions on the terminal.\n",
      "Workspace not found. Creating...\n"
     ]
    },
    {
     "ename": "UserErrorException",
     "evalue": "Workspace name must be between 3 and 33 characters long. Its first character has to be alphanumeric, and the rest may contain hyphens and underscores.",
     "output_type": "error",
     "traceback": [
      "\u001b[0;31m---------------------------------------------------------------------------\u001b[0m",
      "\u001b[0;31mAuthenticationException\u001b[0m                   Traceback (most recent call last)",
      "\u001b[0;32m~/anaconda3/envs/aml/lib/python3.6/site-packages/azureml/core/authentication.py\u001b[0m in \u001b[0;36mwrapper\u001b[0;34m(self, *args, **kwargs)\u001b[0m\n\u001b[1;32m    149\u001b[0m                 \u001b[0m_interactive_auth_lock\u001b[0m\u001b[0;34m.\u001b[0m\u001b[0macquire\u001b[0m\u001b[0;34m(\u001b[0m\u001b[0;34m)\u001b[0m\u001b[0;34m\u001b[0m\u001b[0m\n\u001b[0;32m--> 150\u001b[0;31m                 \u001b[0;32mreturn\u001b[0m \u001b[0mtest_function\u001b[0m\u001b[0;34m(\u001b[0m\u001b[0mself\u001b[0m\u001b[0;34m,\u001b[0m \u001b[0;34m*\u001b[0m\u001b[0margs\u001b[0m\u001b[0;34m,\u001b[0m \u001b[0;34m**\u001b[0m\u001b[0mkwargs\u001b[0m\u001b[0;34m)\u001b[0m\u001b[0;34m\u001b[0m\u001b[0m\n\u001b[0m\u001b[1;32m    151\u001b[0m             \u001b[0;32mexcept\u001b[0m \u001b[0mException\u001b[0m\u001b[0;34m:\u001b[0m\u001b[0;34m\u001b[0m\u001b[0m\n",
      "\u001b[0;32m~/anaconda3/envs/aml/lib/python3.6/site-packages/azureml/core/authentication.py\u001b[0m in \u001b[0;36m_get_service_client\u001b[0;34m(self, client_class, subscription_id, subscription_bound, base_url)\u001b[0m\n\u001b[1;32m    308\u001b[0m         return self._auth._get_service_client(client_class, subscription_id,\n\u001b[0;32m--> 309\u001b[0;31m                                               subscription_bound=subscription_bound, base_url=base_url)\n\u001b[0m\u001b[1;32m    310\u001b[0m \u001b[0;34m\u001b[0m\u001b[0m\n",
      "\u001b[0;32m~/anaconda3/envs/aml/lib/python3.6/site-packages/azureml/core/authentication.py\u001b[0m in \u001b[0;36m_get_service_client\u001b[0;34m(self, client_class, subscription_id, subscription_bound, base_url)\u001b[0m\n\u001b[1;32m    509\u001b[0m         \u001b[0;32mif\u001b[0m \u001b[0msubscription_id\u001b[0m\u001b[0;34m:\u001b[0m\u001b[0;34m\u001b[0m\u001b[0m\n\u001b[0;32m--> 510\u001b[0;31m             \u001b[0mself\u001b[0m\u001b[0;34m.\u001b[0m\u001b[0m_perform_subscription_check\u001b[0m\u001b[0;34m(\u001b[0m\u001b[0msubscription_id\u001b[0m\u001b[0;34m)\u001b[0m\u001b[0;34m\u001b[0m\u001b[0m\n\u001b[0m\u001b[1;32m    511\u001b[0m \u001b[0;34m\u001b[0m\u001b[0m\n",
      "\u001b[0;32m~/anaconda3/envs/aml/lib/python3.6/site-packages/azureml/core/authentication.py\u001b[0m in \u001b[0;36m_perform_subscription_check\u001b[0;34m(self, subscription_id)\u001b[0m\n\u001b[1;32m    490\u001b[0m                                           \"subscription and retry.\".format(subscription_id, all_subscription_list,\n\u001b[0;32m--> 491\u001b[0;31m                                                                            subscription_id))\n\u001b[0m\u001b[1;32m    492\u001b[0m \u001b[0;34m\u001b[0m\u001b[0m\n",
      "\u001b[0;31mAuthenticationException\u001b[0m: You don't have access to <your subscription id> subscription. All the subscriptions that you have access to = [SubscriptionInfo(subscription_name='Microsoft Azure Internal Consumption', subscription_id='421bcd6b-87f3-4184-aa20-4eacf33f710c'), SubscriptionInfo(subscription_name='MTC SVC Team AIRS-Common', subscription_id='5ffac217-ddd0-4388-8019-457477bd9d12'), SubscriptionInfo(subscription_name='MTC SVC Team AIRS-Cortana Analytics', subscription_id='952a710c-8d9c-40c1-9fec-f752138cc0b3'), SubscriptionInfo(subscription_name='ADLTrainingMS', subscription_id='ace74b35-b0de-428b-a1d9-55459d7a6e30'), SubscriptionInfo(subscription_name='BCDR Marketing Lab', subscription_id='281332af-6650-4ddb-b47c-1ee6c0ae4123'), SubscriptionInfo(subscription_name='BDHadoopTeamPMTestDemo', subscription_id='d66b1168-d835-4066-8c45-7d2ed713c082'), SubscriptionInfo(subscription_name='BDHadoopTeamPMTestDemo2', subscription_id='ff78024c-d5a1-48ae-88eb-d61f0f60f8ff'), SubscriptionInfo(subscription_name='Cosmos_C&E_DPG_Azure ML_100293', subscription_id='006c8ad5-cb8a-4900-bb78-2115733f9d0c')]. Please run 'az login' or set <your subscription id> as default subscription and retry.",
      "\nDuring handling of the above exception, another exception occurred:\n",
      "\u001b[0;31mAdalError\u001b[0m                                 Traceback (most recent call last)",
      "\u001b[0;32m~/anaconda3/envs/aml/lib/python3.6/site-packages/azure/cli/command_modules/profile/custom.py\u001b[0m in \u001b[0;36mlogin\u001b[0;34m(cmd, username, password, service_principal, tenant, allow_no_subscriptions, identity, use_device_code)\u001b[0m\n\u001b[1;32m    127\u001b[0m             \u001b[0muse_device_code\u001b[0m\u001b[0;34m=\u001b[0m\u001b[0muse_device_code\u001b[0m\u001b[0;34m,\u001b[0m\u001b[0;34m\u001b[0m\u001b[0m\n\u001b[0;32m--> 128\u001b[0;31m             allow_no_subscriptions=allow_no_subscriptions)\n\u001b[0m\u001b[1;32m    129\u001b[0m     \u001b[0;32mexcept\u001b[0m \u001b[0mAdalError\u001b[0m \u001b[0;32mas\u001b[0m \u001b[0merr\u001b[0m\u001b[0;34m:\u001b[0m\u001b[0;34m\u001b[0m\u001b[0m\n",
      "\u001b[0;32m~/anaconda3/envs/aml/lib/python3.6/site-packages/azure/cli/core/_profile.py\u001b[0m in \u001b[0;36mfind_subscriptions_on_login\u001b[0;34m(self, interactive, username, password, is_service_principal, tenant, use_device_code, allow_no_subscriptions, subscription_finder)\u001b[0m\n\u001b[1;32m    190\u001b[0m                 subscriptions = subscription_finder.find_through_interactive_flow(\n\u001b[0;32m--> 191\u001b[0;31m                     tenant, self._ad_resource_uri)\n\u001b[0m\u001b[1;32m    192\u001b[0m         \u001b[0;32melse\u001b[0m\u001b[0;34m:\u001b[0m\u001b[0;34m\u001b[0m\u001b[0m\n",
      "\u001b[0;32m~/anaconda3/envs/aml/lib/python3.6/site-packages/azure/cli/core/_profile.py\u001b[0m in \u001b[0;36mfind_through_interactive_flow\u001b[0;34m(self, tenant, resource)\u001b[0m\n\u001b[1;32m    747\u001b[0m         \u001b[0mlogger\u001b[0m\u001b[0;34m.\u001b[0m\u001b[0mwarning\u001b[0m\u001b[0;34m(\u001b[0m\u001b[0mcode\u001b[0m\u001b[0;34m[\u001b[0m\u001b[0;34m'message'\u001b[0m\u001b[0;34m]\u001b[0m\u001b[0;34m)\u001b[0m\u001b[0;34m\u001b[0m\u001b[0m\n\u001b[0;32m--> 748\u001b[0;31m         \u001b[0mtoken_entry\u001b[0m \u001b[0;34m=\u001b[0m \u001b[0mcontext\u001b[0m\u001b[0;34m.\u001b[0m\u001b[0macquire_token_with_device_code\u001b[0m\u001b[0;34m(\u001b[0m\u001b[0mresource\u001b[0m\u001b[0;34m,\u001b[0m \u001b[0mcode\u001b[0m\u001b[0;34m,\u001b[0m \u001b[0m_CLIENT_ID\u001b[0m\u001b[0;34m)\u001b[0m\u001b[0;34m\u001b[0m\u001b[0m\n\u001b[0m\u001b[1;32m    749\u001b[0m         \u001b[0mself\u001b[0m\u001b[0;34m.\u001b[0m\u001b[0muser_id\u001b[0m \u001b[0;34m=\u001b[0m \u001b[0mtoken_entry\u001b[0m\u001b[0;34m[\u001b[0m\u001b[0m_TOKEN_ENTRY_USER_ID\u001b[0m\u001b[0;34m]\u001b[0m\u001b[0;34m\u001b[0m\u001b[0m\n",
      "\u001b[0;32m~/anaconda3/envs/aml/lib/python3.6/site-packages/adal/authentication_context.py\u001b[0m in \u001b[0;36macquire_token_with_device_code\u001b[0;34m(self, resource, user_code_info, client_id)\u001b[0m\n\u001b[1;32m    298\u001b[0m \u001b[0;34m\u001b[0m\u001b[0m\n\u001b[0;32m--> 299\u001b[0;31m         \u001b[0;32mreturn\u001b[0m \u001b[0mself\u001b[0m\u001b[0;34m.\u001b[0m\u001b[0m_acquire_token\u001b[0m\u001b[0;34m(\u001b[0m\u001b[0mtoken_func\u001b[0m\u001b[0;34m,\u001b[0m \u001b[0muser_code_info\u001b[0m\u001b[0;34m.\u001b[0m\u001b[0mget\u001b[0m\u001b[0;34m(\u001b[0m\u001b[0;34m'correlation_id'\u001b[0m\u001b[0;34m,\u001b[0m \u001b[0;32mNone\u001b[0m\u001b[0;34m)\u001b[0m\u001b[0;34m)\u001b[0m\u001b[0;34m\u001b[0m\u001b[0m\n\u001b[0m\u001b[1;32m    300\u001b[0m \u001b[0;34m\u001b[0m\u001b[0m\n",
      "\u001b[0;32m~/anaconda3/envs/aml/lib/python3.6/site-packages/adal/authentication_context.py\u001b[0m in \u001b[0;36m_acquire_token\u001b[0;34m(self, token_func, correlation_id)\u001b[0m\n\u001b[1;32m    127\u001b[0m         \u001b[0mself\u001b[0m\u001b[0;34m.\u001b[0m\u001b[0mauthority\u001b[0m\u001b[0;34m.\u001b[0m\u001b[0mvalidate\u001b[0m\u001b[0;34m(\u001b[0m\u001b[0mself\u001b[0m\u001b[0;34m.\u001b[0m\u001b[0m_call_context\u001b[0m\u001b[0;34m)\u001b[0m\u001b[0;34m\u001b[0m\u001b[0m\n\u001b[0;32m--> 128\u001b[0;31m         \u001b[0;32mreturn\u001b[0m \u001b[0mtoken_func\u001b[0m\u001b[0;34m(\u001b[0m\u001b[0mself\u001b[0m\u001b[0;34m)\u001b[0m\u001b[0;34m\u001b[0m\u001b[0m\n\u001b[0m\u001b[1;32m    129\u001b[0m \u001b[0;34m\u001b[0m\u001b[0m\n",
      "\u001b[0;32m~/anaconda3/envs/aml/lib/python3.6/site-packages/adal/authentication_context.py\u001b[0m in \u001b[0;36mtoken_func\u001b[0;34m(self)\u001b[0m\n\u001b[1;32m    291\u001b[0m \u001b[0;34m\u001b[0m\u001b[0m\n\u001b[0;32m--> 292\u001b[0;31m             \u001b[0mtoken\u001b[0m \u001b[0;34m=\u001b[0m \u001b[0mtoken_request\u001b[0m\u001b[0;34m.\u001b[0m\u001b[0mget_token_with_device_code\u001b[0m\u001b[0;34m(\u001b[0m\u001b[0muser_code_info\u001b[0m\u001b[0;34m)\u001b[0m\u001b[0;34m\u001b[0m\u001b[0m\n\u001b[0m\u001b[1;32m    293\u001b[0m \u001b[0;34m\u001b[0m\u001b[0m\n",
      "\u001b[0;32m~/anaconda3/envs/aml/lib/python3.6/site-packages/adal/token_request.py\u001b[0m in \u001b[0;36mget_token_with_device_code\u001b[0;34m(self, user_code_info)\u001b[0m\n\u001b[1;32m    396\u001b[0m \u001b[0;34m\u001b[0m\u001b[0m\n\u001b[0;32m--> 397\u001b[0;31m         \u001b[0mtoken\u001b[0m \u001b[0;34m=\u001b[0m \u001b[0mclient\u001b[0m\u001b[0;34m.\u001b[0m\u001b[0mget_token_with_polling\u001b[0m\u001b[0;34m(\u001b[0m\u001b[0moauth_parameters\u001b[0m\u001b[0;34m,\u001b[0m \u001b[0minterval\u001b[0m\u001b[0;34m,\u001b[0m \u001b[0mexpires_in\u001b[0m\u001b[0;34m)\u001b[0m\u001b[0;34m\u001b[0m\u001b[0m\n\u001b[0m\u001b[1;32m    398\u001b[0m         \u001b[0mself\u001b[0m\u001b[0;34m.\u001b[0m\u001b[0m_add_token_into_cache\u001b[0m\u001b[0;34m(\u001b[0m\u001b[0mtoken\u001b[0m\u001b[0;34m)\u001b[0m\u001b[0;34m\u001b[0m\u001b[0m\n",
      "\u001b[0;32m~/anaconda3/envs/aml/lib/python3.6/site-packages/adal/oauth2_client.py\u001b[0m in \u001b[0;36mget_token_with_polling\u001b[0;34m(self, oauth_parameters, refresh_internal, expires_in)\u001b[0m\n\u001b[1;32m    361\u001b[0m                 raise AdalError('Unexpected polling state {}'.format(error),\n\u001b[0;32m--> 362\u001b[0;31m                                 wire_response)\n\u001b[0m\u001b[1;32m    363\u001b[0m             \u001b[0;32melse\u001b[0m\u001b[0;34m:\u001b[0m\u001b[0;34m\u001b[0m\u001b[0m\n",
      "\u001b[0;31mAdalError\u001b[0m: Unexpected polling state code_expired",
      "\nDuring handling of the above exception, another exception occurred:\n",
      "\u001b[0;31mCLIError\u001b[0m                                  Traceback (most recent call last)",
      "\u001b[0;32m<ipython-input-1-3c2a88c5e4df>\u001b[0m in \u001b[0;36m<module>\u001b[0;34m()\u001b[0m\n\u001b[1;32m      9\u001b[0m \u001b[0;32mtry\u001b[0m\u001b[0;34m:\u001b[0m\u001b[0;34m\u001b[0m\u001b[0m\n\u001b[0;32m---> 10\u001b[0;31m    \u001b[0mws\u001b[0m \u001b[0;34m=\u001b[0m \u001b[0mWorkspace\u001b[0m\u001b[0;34m(\u001b[0m\u001b[0msubscription_id\u001b[0m \u001b[0;34m=\u001b[0m \u001b[0msubscription_id\u001b[0m\u001b[0;34m,\u001b[0m \u001b[0mresource_group\u001b[0m \u001b[0;34m=\u001b[0m \u001b[0mresource_group\u001b[0m\u001b[0;34m,\u001b[0m \u001b[0mworkspace_name\u001b[0m \u001b[0;34m=\u001b[0m \u001b[0mworkspace_name\u001b[0m\u001b[0;34m)\u001b[0m\u001b[0;34m\u001b[0m\u001b[0m\n\u001b[0m\u001b[1;32m     11\u001b[0m \u001b[0;34m\u001b[0m\u001b[0m\n",
      "\u001b[0;32m~/anaconda3/envs/aml/lib/python3.6/site-packages/azureml/core/workspace.py\u001b[0m in \u001b[0;36m__init__\u001b[0;34m(self, subscription_id, resource_group, workspace_name, auth, _location, _disable_service_check)\u001b[0m\n\u001b[1;32m     85\u001b[0m         \u001b[0;32mif\u001b[0m \u001b[0;32mnot\u001b[0m \u001b[0m_disable_service_check\u001b[0m\u001b[0;34m:\u001b[0m\u001b[0;34m\u001b[0m\u001b[0m\n\u001b[0;32m---> 86\u001b[0;31m             \u001b[0mauto_rest_workspace\u001b[0m \u001b[0;34m=\u001b[0m \u001b[0m_commands\u001b[0m\u001b[0;34m.\u001b[0m\u001b[0mget_workspace\u001b[0m\u001b[0;34m(\u001b[0m\u001b[0mauth\u001b[0m\u001b[0;34m,\u001b[0m \u001b[0msubscription_id\u001b[0m\u001b[0;34m,\u001b[0m \u001b[0mresource_group\u001b[0m\u001b[0;34m,\u001b[0m \u001b[0mworkspace_name\u001b[0m\u001b[0;34m)\u001b[0m\u001b[0;34m\u001b[0m\u001b[0m\n\u001b[0m\u001b[1;32m     87\u001b[0m             \u001b[0mself\u001b[0m\u001b[0;34m.\u001b[0m\u001b[0m_workspace_autorest_object\u001b[0m \u001b[0;34m=\u001b[0m \u001b[0mauto_rest_workspace\u001b[0m\u001b[0;34m\u001b[0m\u001b[0m\n",
      "\u001b[0;32m~/anaconda3/envs/aml/lib/python3.6/site-packages/azureml/_project/_commands.py\u001b[0m in \u001b[0;36mget_workspace\u001b[0;34m(auth, subscription_id, resource_group_name, workspace_name)\u001b[0m\n\u001b[1;32m    326\u001b[0m     \u001b[0;32mtry\u001b[0m\u001b[0;34m:\u001b[0m\u001b[0;34m\u001b[0m\u001b[0m\n\u001b[0;32m--> 327\u001b[0;31m         \u001b[0mworkspaces\u001b[0m \u001b[0;34m=\u001b[0m \u001b[0mauth\u001b[0m\u001b[0;34m.\u001b[0m\u001b[0m_get_service_client\u001b[0m\u001b[0;34m(\u001b[0m\u001b[0mAzureMachineLearningWorkspaces\u001b[0m\u001b[0;34m,\u001b[0m \u001b[0msubscription_id\u001b[0m\u001b[0;34m)\u001b[0m\u001b[0;34m.\u001b[0m\u001b[0mworkspaces\u001b[0m\u001b[0;34m\u001b[0m\u001b[0m\n\u001b[0m\u001b[1;32m    328\u001b[0m         return WorkspacesOperations.get(\n",
      "\u001b[0;32m~/anaconda3/envs/aml/lib/python3.6/site-packages/azureml/core/authentication.py\u001b[0m in \u001b[0;36mwrapper\u001b[0;34m(self, *args, **kwargs)\u001b[0m\n\u001b[1;32m    152\u001b[0m                 \u001b[0;31m# Perform InteractiveLoginAuthentication and try one more time.\u001b[0m\u001b[0;34m\u001b[0m\u001b[0;34m\u001b[0m\u001b[0m\n\u001b[0;32m--> 153\u001b[0;31m                 \u001b[0mInteractiveLoginAuthentication\u001b[0m\u001b[0;34m(\u001b[0m\u001b[0mforce\u001b[0m\u001b[0;34m=\u001b[0m\u001b[0;32mTrue\u001b[0m\u001b[0;34m)\u001b[0m\u001b[0;34m\u001b[0m\u001b[0m\n\u001b[0m\u001b[1;32m    154\u001b[0m                 \u001b[0;31m# Try one more time\u001b[0m\u001b[0;34m\u001b[0m\u001b[0;34m\u001b[0m\u001b[0m\n",
      "\u001b[0;32m~/anaconda3/envs/aml/lib/python3.6/site-packages/azureml/core/authentication.py\u001b[0m in \u001b[0;36m__init__\u001b[0;34m(self, force, tenant_id)\u001b[0m\n\u001b[1;32m    241\u001b[0m                 \u001b[0;31m# Otherwise, az CLI changes can easily break this code.\u001b[0m\u001b[0;34m\u001b[0m\u001b[0;34m\u001b[0m\u001b[0m\n\u001b[0;32m--> 242\u001b[0;31m                 \u001b[0maz_cli_custom\u001b[0m\u001b[0;34m.\u001b[0m\u001b[0mlogin\u001b[0m\u001b[0;34m(\u001b[0m\u001b[0mDummyCommandLoader\u001b[0m\u001b[0;34m(\u001b[0m\u001b[0;34m)\u001b[0m\u001b[0;34m,\u001b[0m \u001b[0mtenant\u001b[0m\u001b[0;34m=\u001b[0m\u001b[0mtenant_id\u001b[0m\u001b[0;34m)\u001b[0m\u001b[0;34m\u001b[0m\u001b[0m\n\u001b[0m\u001b[1;32m    243\u001b[0m                 \u001b[0mprint\u001b[0m\u001b[0;34m(\u001b[0m\u001b[0;34m\"Interactive authentication successfully completed.\"\u001b[0m\u001b[0;34m)\u001b[0m\u001b[0;34m\u001b[0m\u001b[0m\n",
      "\u001b[0;32m~/anaconda3/envs/aml/lib/python3.6/site-packages/azure/cli/command_modules/profile/custom.py\u001b[0m in \u001b[0;36mlogin\u001b[0;34m(cmd, username, password, service_principal, tenant, allow_no_subscriptions, identity, use_device_code)\u001b[0m\n\u001b[1;32m    137\u001b[0m                 \u001b[0;32mraise\u001b[0m \u001b[0mCLIError\u001b[0m\u001b[0;34m(\u001b[0m\u001b[0;34m\"Logging in through command line is not supported. \"\u001b[0m \u001b[0;34m+\u001b[0m \u001b[0msuggestion\u001b[0m\u001b[0;34m)\u001b[0m\u001b[0;34m\u001b[0m\u001b[0m\n\u001b[0;32m--> 138\u001b[0;31m         \u001b[0;32mraise\u001b[0m \u001b[0mCLIError\u001b[0m\u001b[0;34m(\u001b[0m\u001b[0merr\u001b[0m\u001b[0;34m)\u001b[0m\u001b[0;34m\u001b[0m\u001b[0m\n\u001b[0m\u001b[1;32m    139\u001b[0m     \u001b[0;32mexcept\u001b[0m \u001b[0mrequests\u001b[0m\u001b[0;34m.\u001b[0m\u001b[0mexceptions\u001b[0m\u001b[0;34m.\u001b[0m\u001b[0mConnectionError\u001b[0m \u001b[0;32mas\u001b[0m \u001b[0merr\u001b[0m\u001b[0;34m:\u001b[0m\u001b[0;34m\u001b[0m\u001b[0m\n",
      "\u001b[0;31mCLIError\u001b[0m: Unexpected polling state code_expired",
      "\nDuring handling of the above exception, another exception occurred:\n",
      "\u001b[0;31mUserErrorException\u001b[0m                        Traceback (most recent call last)",
      "\u001b[0;32m<ipython-input-1-3c2a88c5e4df>\u001b[0m in \u001b[0;36m<module>\u001b[0;34m()\u001b[0m\n\u001b[1;32m     18\u001b[0m                 \u001b[0mlocation\u001b[0m \u001b[0;34m=\u001b[0m \u001b[0mworkspace_region\u001b[0m\u001b[0;34m,\u001b[0m\u001b[0;34m\u001b[0m\u001b[0m\n\u001b[1;32m     19\u001b[0m                 \u001b[0mcreate_resource_group\u001b[0m \u001b[0;34m=\u001b[0m \u001b[0;32mTrue\u001b[0m\u001b[0;34m,\u001b[0m\u001b[0;34m\u001b[0m\u001b[0m\n\u001b[0;32m---> 20\u001b[0;31m                 exist_ok = True)\n\u001b[0m\u001b[1;32m     21\u001b[0m \u001b[0;34m\u001b[0m\u001b[0m\n\u001b[1;32m     22\u001b[0m \u001b[0mws\u001b[0m\u001b[0;34m.\u001b[0m\u001b[0mget_details\u001b[0m\u001b[0;34m(\u001b[0m\u001b[0;34m)\u001b[0m\u001b[0;34m\u001b[0m\u001b[0m\n",
      "\u001b[0;32m~/anaconda3/envs/aml/lib/python3.6/site-packages/azureml/core/workspace.py\u001b[0m in \u001b[0;36mcreate\u001b[0;34m(name, auth, subscription_id, resource_group, location, create_resource_group, friendly_name, storage_account, key_vault, app_insights, container_registry, exist_ok, _batchai_workspace)\u001b[0m\n\u001b[1;32m    208\u001b[0m         \"\"\"\n\u001b[1;32m    209\u001b[0m         \u001b[0;31m# Checking the validity of the workspace name.\u001b[0m\u001b[0;34m\u001b[0m\u001b[0;34m\u001b[0m\u001b[0m\n\u001b[0;32m--> 210\u001b[0;31m         \u001b[0mcheck_valid_resource_name\u001b[0m\u001b[0;34m(\u001b[0m\u001b[0mname\u001b[0m\u001b[0;34m,\u001b[0m \u001b[0;34m\"Workspace\"\u001b[0m\u001b[0;34m)\u001b[0m\u001b[0;34m\u001b[0m\u001b[0m\n\u001b[0m\u001b[1;32m    211\u001b[0m         \u001b[0;31m# TODO: Checks if the workspace already exists.\u001b[0m\u001b[0;34m\u001b[0m\u001b[0;34m\u001b[0m\u001b[0m\n\u001b[1;32m    212\u001b[0m \u001b[0;34m\u001b[0m\u001b[0m\n",
      "\u001b[0;32m~/anaconda3/envs/aml/lib/python3.6/site-packages/azureml/_base_sdk_common/common.py\u001b[0m in \u001b[0;36mcheck_valid_resource_name\u001b[0;34m(resource_name, resource_type)\u001b[0m\n\u001b[1;32m    111\u001b[0m               \u001b[0;34m\"the rest may contain hyphens and underscores.\"\u001b[0m\u001b[0;34m.\u001b[0m\u001b[0mformat\u001b[0m\u001b[0;34m(\u001b[0m\u001b[0mresource_type\u001b[0m\u001b[0;34m)\u001b[0m\u001b[0;34m\u001b[0m\u001b[0m\n\u001b[1;32m    112\u001b[0m     \u001b[0;32mif\u001b[0m \u001b[0;32mnot\u001b[0m \u001b[0m_valid_workspace_name\u001b[0m\u001b[0;34m(\u001b[0m\u001b[0mresource_name\u001b[0m\u001b[0;34m)\u001b[0m\u001b[0;34m:\u001b[0m\u001b[0;34m\u001b[0m\u001b[0m\n\u001b[0;32m--> 113\u001b[0;31m         \u001b[0;32mraise\u001b[0m \u001b[0mUserErrorException\u001b[0m\u001b[0;34m(\u001b[0m\u001b[0mmessage\u001b[0m\u001b[0;34m)\u001b[0m\u001b[0;34m\u001b[0m\u001b[0m\n\u001b[0m\u001b[1;32m    114\u001b[0m \u001b[0;34m\u001b[0m\u001b[0m\n\u001b[1;32m    115\u001b[0m \u001b[0;34m\u001b[0m\u001b[0m\n",
      "\u001b[0;31mUserErrorException\u001b[0m: Workspace name must be between 3 and 33 characters long. Its first character has to be alphanumeric, and the rest may contain hyphens and underscores."
     ]
    }
   ],
   "source": [
    "from azureml.core import Workspace\n",
    "\n",
    "subscription_id ='<your subscription id>'\n",
    "resource_group ='<your resource group>'\n",
    "workspace_name = '<your workspace name>'\n",
    "workspace_region = '<your region>'\n",
    "  \n",
    "# Try to create a workspace. If the workspace already exists retrieve and store configuration\n",
    "try:\n",
    "   ws = Workspace(subscription_id = subscription_id, resource_group = resource_group, workspace_name = workspace_name)\n",
    "\n",
    "   print('Workspace configuration succeeded. You are all set!')\n",
    "except:\n",
    "   print('Workspace not found. Creating...')\n",
    "   ws = Workspace.create(name = workspace_name,\n",
    "                subscription_id = subscription_id,\n",
    "                resource_group = resource_group, \n",
    "                location = workspace_region,\n",
    "                create_resource_group = True,\n",
    "                exist_ok = True)\n",
    "\n",
    "ws.get_details()\n",
    "ws.write_config('../')"
   ]
  },
  {
   "cell_type": "markdown",
   "metadata": {},
   "source": [
    "## Next Step\n",
    "Your AML Workspace is ready and the configuration has been written to a json config file. You can now proceed to the first part of the lab - experimenting in a local environment.\n"
   ]
  },
  {
   "cell_type": "code",
   "execution_count": null,
   "metadata": {},
   "outputs": [],
   "source": []
  }
 ],
 "metadata": {
  "kernelspec": {
   "display_name": "Python 3",
   "language": "python",
   "name": "python3"
  },
  "language_info": {
   "codemirror_mode": {
    "name": "ipython",
    "version": 3
   },
   "file_extension": ".py",
   "mimetype": "text/x-python",
   "name": "python",
   "nbconvert_exporter": "python",
   "pygments_lexer": "ipython3",
   "version": "3.6.6"
  }
 },
 "nbformat": 4,
 "nbformat_minor": 2
}
