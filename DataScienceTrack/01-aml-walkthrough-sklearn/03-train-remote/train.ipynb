{
 "cells": [
  {
   "cell_type": "markdown",
   "metadata": {},
   "source": [
    "# Part 2 - Model Training\n",
    "In this section of the lab we will train a multinomial classification model using the bottleneck features created in the previous part of the lab.\n",
    "\n",
    "\n",
    "![Transfer Learning](https://github.com/jakazmie/images-for-hands-on-labs/raw/master/tlcl.png)\n",
    "\n",
    "We will start with a simple logistic regression model trained locally and then move on to more thorough model selection experiment using Azure ML feature called `Automated ML`.\n",
    "\n",
    "![AML Arch](https://github.com/jakazmie/images-for-hands-on-labs/raw/master/automated-machine-learning.png)\n",
    "\n"
   ]
  },
  {
   "cell_type": "markdown",
   "metadata": {},
   "source": [
    "### Create training script\n",
    "\n",
    "The trained model will be saved into the `./outputs` folder. This is one of the special folders in AML. The other one is the `./logs` folder. The content in these folders is automatically uploaded to the run history.\n",
    "\n",
    "The script uses AML `Run` object to track  **validation accuracy**. The metric is captured at the end of training.\n",
    "\n",
    "#### Create a folder to hold the script"
   ]
  },
  {
   "cell_type": "code",
   "execution_count": null,
   "metadata": {},
   "outputs": [],
   "source": [
    "import os\n",
    "script_folder = './script'\n",
    "os.makedirs(script_folder, exist_ok=True)"
   ]
  },
  {
   "cell_type": "markdown",
   "metadata": {},
   "source": [
    "#### Use Jupyter `%%writefile` magic to write the script\n"
   ]
  },
  {
   "cell_type": "code",
   "execution_count": null,
   "metadata": {},
   "outputs": [],
   "source": [
    "%%writefile $script_folder/train.py\n",
    "\n",
    "import os\n",
    "import argparse\n",
    "\n",
    "from azureml.core import Run\n",
    "\n",
    "import numpy as np\n",
    "import random\n",
    "import h5py\n",
    "\n",
    "from sklearn.linear_model import LogisticRegression\n",
    "from sklearn.externals import joblib\n",
    "\n",
    "\n",
    "\n",
    "# Training regime\n",
    "def train_evaluate(run):\n",
    "   \n",
    "    print(\"Loading bottleneck features\")\n",
    "    train_file_name = os.path.join(args.data_folder, args.training_file_name)\n",
    "    valid_file_name = os.path.join(args.data_folder, args.validation_file_name)\n",
    "    \n",
    "    # Load bottleneck training features and labels\n",
    "    with h5py.File(train_file_name, \"r\") as hfile:\n",
    "        train_features = np.array(hfile.get('features'))\n",
    "        train_labels = np.array(hfile.get('labels'))\n",
    "        \n",
    "        \n",
    "    # Load bottleneck validation features and labels\n",
    "    with h5py.File(valid_file_name, \"r\") as hfile:\n",
    "        valid_features = np.array(hfile.get('features'))\n",
    "        valid_labels = np.array(hfile.get('labels'))\n",
    "        \n",
    "    # Conver one-hot labels to integers\n",
    "    y_train = np.argmax(train_labels, axis=1)\n",
    "    y_valid = np.argmax(valid_labels, axis=1)\n",
    "    \n",
    "    # Train logistics regresssion model\n",
    "    print(\"Starting training on\")\n",
    "    print(\"  Features:\", train_features.shape)\n",
    "    print(\"  Labels:\", y_train.shape)\n",
    "    clf = LogisticRegression(\n",
    "        C=1.0/args.reg, \n",
    "        multi_class='multinomial',\n",
    "        solver='lbfgs',\n",
    "        random_state=42)\n",
    "    clf.fit(train_features, y_train)\n",
    "    \n",
    "    \n",
    "    # Validate\n",
    "    print(\"Starting validation\")\n",
    "    y_hat = clf.predict(valid_features)\n",
    "    \n",
    "    # Calculate accuracy \n",
    "    acc = np.average(y_hat == y_valid)\n",
    "    print('Validatin accuracy is:', acc)\n",
    "    \n",
    "    # Log to AML Experiment\n",
    "    run.log('regularization_rate', np.float(args.reg))\n",
    "    run.log('validation_acc', np.float(acc))\n",
    "          \n",
    "    # Save the trained model to outp'uts which is a standard folder expected by AML\n",
    "    model_file = 'aerial_sklearn.pkl'\n",
    "    model_file = os.path.join('outputs', model_file)\n",
    "    print(\"Saving the model to: \", model_file)\n",
    "    os.makedirs('outputs', exist_ok=True)\n",
    "    joblib.dump(value=clf, filename=model_file)\n",
    "    \n",
    "\n",
    "  \n",
    "\n",
    "if __name__ == '__main__':\n",
    "    parser = argparse.ArgumentParser(\"Training, evaluation worklfow\")\n",
    "\n",
    "    ### Model parameters\n",
    "    \n",
    "    parser.add_argument(\n",
    "        '--data-folder',\n",
    "        type=str,\n",
    "        default = './bottleneck',\n",
    "        help='Folder with bottleneck features and labels')\n",
    "\n",
    "    parser.add_argument(\n",
    "        '--training-file-name',\n",
    "        type=str,\n",
    "        default = 'aerial_bottleneck_train.h5',\n",
    "        help='Training file name')\n",
    "\n",
    "    parser.add_argument(\n",
    "        '--validation-file-name',\n",
    "        type=str,\n",
    "        default = 'aerial_bottleneck_valid.h5',\n",
    "        help='Validation file name')\n",
    "\n",
    "    parser.add_argument(\n",
    "        '--regularization', \n",
    "        type=float, dest='reg', \n",
    "        default=0.01, \n",
    "        help='regularization rate')\n",
    "    \n",
    "    args = parser.parse_args()\n",
    "    \n",
    "    # get hold of the current run\n",
    "    run = Run.get_submitted_run()\n",
    "    train_evaluate(run)\n",
    "    "
   ]
  },
  {
   "cell_type": "markdown",
   "metadata": {},
   "source": [
    "## Train logistic regression model"
   ]
  },
  {
   "cell_type": "markdown",
   "metadata": {},
   "source": [
    "### Connect to AML workspace\n"
   ]
  },
  {
   "cell_type": "code",
   "execution_count": null,
   "metadata": {},
   "outputs": [],
   "source": [
    "import azureml.core\n",
    "from azureml.core import Workspace\n",
    "import os\n",
    "\n",
    "ws = Workspace.from_config()\n",
    "print(ws.name, ws.resource_group, ws.location, ws.subscription_id, sep='\\n')"
   ]
  },
  {
   "cell_type": "markdown",
   "metadata": {},
   "source": [
    "### Download bottleneck features"
   ]
  },
  {
   "cell_type": "code",
   "execution_count": null,
   "metadata": {},
   "outputs": [],
   "source": [
    "data_folder = 'bottleneck'\n",
    "ds = ws.get_default_datastore()\n",
    "ds.download(target_path='.', prefix=data_folder, overwrite=True)"
   ]
  },
  {
   "cell_type": "code",
   "execution_count": null,
   "metadata": {},
   "outputs": [],
   "source": [
    "!ls\n",
    "!ls bottleneck"
   ]
  },
  {
   "cell_type": "code",
   "execution_count": null,
   "metadata": {},
   "outputs": [],
   "source": [
    "%%sh\n",
    "\n",
    "mv bottleneck/aerial_bottleneck_train_vgg16.h5 bottleneck/aerial_bottleneck_train_resnet50.h5"
   ]
  },
  {
   "cell_type": "markdown",
   "metadata": {},
   "source": [
    "### Train logistic regression using bottleneck features"
   ]
  },
  {
   "cell_type": "code",
   "execution_count": null,
   "metadata": {},
   "outputs": [],
   "source": [
    "import h5py\n",
    "import numpy as np\n",
    "from sklearn.linear_model import LogisticRegression\n",
    "from sklearn.model_selection import train_test_split\n",
    "\n",
    "# Load bottleneck features\n",
    "#train_file_name = os.path.join(data_folder, 'aerial_bottleneck_train_resnet50.h5')\n",
    "#valid_file_name = os.path.join(data_folder, 'aerial_bottleneck_valid_resnet50.h5')\n",
    "\n",
    "file_name = os.path.join(data_folder, 'aerial_bottleneck_train_resnet50.h5')\n",
    "    \n",
    "#with h5py.File(train_file_name, \"r\") as hfile:\n",
    "#    train_features = np.array(hfile.get('features'))\n",
    "#    train_labels = np.array(hfile.get('labels'))\n",
    " \n",
    "with h5py.File(file_name, \"r\") as hfile:\n",
    "    features = np.array(hfile.get('features'))\n",
    "    labels = np.array(hfile.get('labels'))\n",
    " \n",
    "    \n",
    "X_train, X_validation, y_train, y_validation = train_test_split(features, labels,\n",
    "                                                               test_size=0.1,\n",
    "                                                               shuffle=True,\n",
    "                                                               stratify=labels)\n",
    "\n",
    "#with h5py.File(valid_file_name, \"r\") as hfile:\n",
    "#    valid_features = np.array(hfile.get('features'))\n",
    "#    valid_labels = np.array(hfile.get('labels'))\n",
    "        \n",
    "# Convert one-hot labels to integers\n",
    "#y_train = np.argmax(train_labels, axis=1)\n",
    "#y_valid = np.argmax(valid_labels, axis=1)\n",
    "    \n",
    "# Train logistics regresssion model\n",
    "reg = 0.1\n",
    "clf = LogisticRegression(\n",
    "        C=1.0/reg, \n",
    "        multi_class='multinomial',\n",
    "        solver='lbfgs',\n",
    "        random_state=42)\n",
    "\n",
    "clf.fit(X_train, y_train)"
   ]
  },
  {
   "cell_type": "markdown",
   "metadata": {},
   "source": [
    "### Evaluate the model"
   ]
  },
  {
   "cell_type": "code",
   "execution_count": null,
   "metadata": {},
   "outputs": [],
   "source": [
    "# Validate\n",
    "y_hat = clf.predict(X_validation)\n",
    "    \n",
    "# Calculate accuracy \n",
    "acc = np.average(y_hat == y_validation)\n",
    "print('Validatin accuracy is:', acc)"
   ]
  },
  {
   "cell_type": "markdown",
   "metadata": {},
   "source": [
    "### Create Experiment\n",
    "\n",
    "We will create a new experiment to manage `Automated ML runs`"
   ]
  },
  {
   "cell_type": "code",
   "execution_count": null,
   "metadata": {},
   "outputs": [],
   "source": [
    "experiment_name = 'aerial-training'\n",
    "\n",
    "from azureml.core import Experiment\n",
    "exp = Experiment(workspace=ws, name=experiment_name)"
   ]
  },
  {
   "cell_type": "markdown",
   "metadata": {},
   "source": [
    "### Create  compute target\n",
    "\n",
    "We will create a new CPU VM to run the training. "
   ]
  },
  {
   "cell_type": "code",
   "execution_count": null,
   "metadata": {},
   "outputs": [],
   "source": [
    "from azureml.core.compute import DsvmCompute\n",
    "from azureml.core.compute_target import ComputeTargetException\n",
    "\n",
    "compute_target_name = 'cpudsvm'\n",
    "compute_target_type = 'Standard_D8S_v3'\n",
    "\n",
    "try:\n",
    "    dsvm_compute = DsvmCompute(workspace=ws, name=compute_target_name)\n",
    "    print('Found existing DSVM:', dsvm_compute.name)\n",
    "except ComputeTargetException:\n",
    "    dsvm_config = DsvmCompute.provisioning_configuration(vm_size=compute_target_type)\n",
    "    dsvm_compute = DsvmCompute.create(ws, name=compute_target_name, provisioning_configuration=dsvm_config)\n",
    "    dsvm_compute.wait_for_completion(show_output=True)"
   ]
  },
  {
   "cell_type": "markdown",
   "metadata": {},
   "source": [
    "### Create Get Data script"
   ]
  },
  {
   "cell_type": "code",
   "execution_count": null,
   "metadata": {},
   "outputs": [],
   "source": [
    "import os\n",
    "script_folder = './script'\n",
    "os.makedirs(script_folder, exist_ok=True)"
   ]
  },
  {
   "cell_type": "code",
   "execution_count": null,
   "metadata": {},
   "outputs": [],
   "source": [
    "%%writefile $script_folder/get_data.py\n",
    "import h5py\n",
    "import numpy as np\n",
    "import os\n",
    "\n",
    "def get_data():\n",
    "    # Load bottleneck features\n",
    "    data_folder = os.environ[\"AZUREML_DATAREFERENCE_workspacefilestore\"]\n",
    "    file_name = os.path.join(data_folder, 'aerial_bottleneck_train_resnet50.h5')\n",
    "    #valid_file_name = os.path.join(data_folder, 'aerial_bottleneck_valid_resnet50.h5')\n",
    "    \n",
    "    print(\"Data folder:\", data_folder)\n",
    "    print(\"Train file:\", train_file_name)\n",
    "    #print(\"Valid file:\", valid_file_name)\n",
    "    print(\"Data folder content:\", os.listdir(data_folder))\n",
    "    \n",
    "    with h5py.File(file_name, \"r\") as hfile:\n",
    "        features = np.array(hfile.get('features'))\n",
    "        labels = np.array(hfile.get('labels'))\n",
    "        \n",
    "    #with h5py.File(valid_file_name, \"r\") as hfile:\n",
    "    #    valid_features = np.array(hfile.get('features'))\n",
    "    #    valid_labels = np.array(hfile.get('labels'))\n",
    "        \n",
    "    # Convert one-hot labels to integers\n",
    "    #y_train = np.argmax(train_labels, axis=1)\n",
    "    #y_valid = np.argmax(valid_labels, axis=1)\n",
    "\n",
    "    return {'X': features, 'y': labels}"
   ]
  },
  {
   "cell_type": "markdown",
   "metadata": {},
   "source": [
    "### Configure datastore and data reference\n",
    "\n",
    "The bottleneck files have been uploaded to the workspace's default datastore during the previous step. We will mount the store on the nodes of the cluster."
   ]
  },
  {
   "cell_type": "code",
   "execution_count": null,
   "metadata": {},
   "outputs": [],
   "source": [
    "from azureml.core import Datastore\n",
    "from azureml.core.runconfig import DataReferenceConfiguration\n",
    "from azureml.core.runconfig import RunConfiguration\n",
    "from azureml.core.conda_dependencies import CondaDependencies\n",
    "from azureml.core import Run\n",
    "from azureml.core import ScriptRunConfig\n",
    "\n",
    "\n",
    "ds = ws.get_default_datastore()\n",
    "print(\"Using the default datastore for training data: \")\n",
    "print(ds.name, ds.datastore_type, ds.account_name, ds.container_name)\n",
    "\n",
    "\n",
    "dr = DataReferenceConfiguration(datastore_name=ds.name, \n",
    "                   path_on_datastore='bottlenec', \n",
    "                   path_on_compute='bottlenec',\n",
    "                   mode='download', # download files from datastore to compute target\n",
    "                   overwrite=True)\n"
   ]
  },
  {
   "cell_type": "markdown",
   "metadata": {},
   "source": [
    "### Create Conda run configuration\n",
    "\n",
    "This time we will not run the script in a Docker container. Instead, we will run it in a custom Conda environment within Data Science Virtual machine.\n"
   ]
  },
  {
   "cell_type": "code",
   "execution_count": null,
   "metadata": {},
   "outputs": [],
   "source": [
    "\n",
    "\n",
    "# create a new RunConfig object\n",
    "conda_run_config = RunConfiguration(framework=\"python\")\n",
    "\n",
    "# Set compute target to our DSVM\n",
    "conda_run_config.target = dsvm_compute.name\n",
    "\n",
    "conda_run_config.data_references = {ds.name: dr}\n",
    "\n",
    "# specify CondaDependencies obj\n",
    "conda_run_config.environment.python.conda_dependencies = \\\n",
    "    CondaDependencies.create(conda_packages=['h5py'])\n"
   ]
  },
  {
   "cell_type": "markdown",
   "metadata": {},
   "source": [
    "### Configure and submit the run."
   ]
  },
  {
   "cell_type": "code",
   "execution_count": null,
   "metadata": {},
   "outputs": [],
   "source": [
    "from azureml.train.automl import AutoMLConfig\n",
    "from azureml.train.automl.run import AutoMLRun\n",
    "import logging\n",
    "\n",
    "\n",
    "automl_config = AutoMLConfig(run_configuration = conda_run_config,\n",
    "                             task = 'classification',\n",
    "                             num_classes = 6,\n",
    "                             debug_log = 'automl_errors.log',\n",
    "                             primary_metric = 'accuracy',\n",
    "                             max_time_sec = 1200,\n",
    "                             iterations = 20,\n",
    "                             n_cross_validations = 5,\n",
    "                             preprocess = False,\n",
    "                             #exit_score = 0.9984,\n",
    "                             blacklist_algos = ['KNeighborsClassifier',\n",
    "                                                'LinearSVMWrapper',\n",
    "                                                'NBWrapper',\n",
    "                                                'BernoulliNB'],\n",
    "                             verbosity = logging.INFO,\n",
    "                             path = script_folder,\n",
    "                             data_script = os.path.join(script_folder, 'get_data.py'))"
   ]
  },
  {
   "cell_type": "markdown",
   "metadata": {},
   "source": [
    "### Run Automated ML job"
   ]
  },
  {
   "cell_type": "code",
   "execution_count": null,
   "metadata": {},
   "outputs": [],
   "source": [
    "tags = {\"Desc\": \"automated ml\"}\n",
    "run = exp.submit(config=automl_config, tags=tags)\n",
    "run"
   ]
  },
  {
   "cell_type": "markdown",
   "metadata": {},
   "source": [
    "Monitor the run."
   ]
  },
  {
   "cell_type": "code",
   "execution_count": null,
   "metadata": {},
   "outputs": [],
   "source": [
    "from azureml.train.widgets import RunDetails\n",
    "RunDetails(run).show()"
   ]
  },
  {
   "cell_type": "code",
   "execution_count": null,
   "metadata": {},
   "outputs": [],
   "source": [
    "run.wait_for_completion(show_output=False)"
   ]
  },
  {
   "cell_type": "code",
   "execution_count": null,
   "metadata": {},
   "outputs": [],
   "source": [
    "from azureml.train.estimator import Estimator\n",
    "\n",
    "script_params = {\n",
    "    '--data-folder': ds.path('bottleneck').as_download(),\n",
    "    '--training-file-name': 'aerial_bottleneck_train_vgg16.h5',\n",
    "    '--validation-file-name': 'aerial_bottleneck_valid_vgg16.h5',\n",
    "    '--regularization': 0.8\n",
    "}\n",
    "\n",
    "pip_packages = ['h5py','pillow','scikit-learn']\n",
    "\n",
    "est = Estimator(source_directory=script_folder,\n",
    "                script_params=script_params,\n",
    "                compute_target=dsvm_compute,\n",
    "                entry_script='train.py',\n",
    "                pip_packages=pip_packages\n",
    "                )"
   ]
  },
  {
   "cell_type": "markdown",
   "metadata": {},
   "source": [
    "### Run the job\n",
    "\n",
    "Run the experiment by submitting the estimator object."
   ]
  },
  {
   "cell_type": "code",
   "execution_count": null,
   "metadata": {},
   "outputs": [],
   "source": [
    "tags = {\"RunName\": \"train-sklearn\"}\n",
    "\n",
    "run = exp.submit(config=est, tags=tags)\n",
    "run"
   ]
  },
  {
   "cell_type": "markdown",
   "metadata": {},
   "source": [
    "Since the call is asynchronous, it returns a **Preparing** or **Running** state as soon as the job is started.\n",
    "\n",
    "### Monitor a remote run\n",
    "\n",
    "In total, the first run takes **approximately 10 minutes**. But for subsequent runs, as long as the script dependencies don't change, the same image is reused and hence the container start up time is much faster.\n",
    "\n",
    "Here is what's happening while you wait:\n",
    "\n",
    "- **Image creation**: A Docker image is created matching the Python environment specified by the estimator. The image is uploaded to the workspace. This stage happens once for each Python environment since the container is cached for subsequent runs.  During image creation, logs are streamed to the run history. You can monitor the image creation progress using these logs.\n",
    "\n",
    "- **Scaling**: If the remote cluster requires more nodes to execute the run than currently available, additional nodes are added automatically. \n",
    "\n",
    "- **Running**: In this stage, the necessary scripts and files are sent to the compute target, then data stores are mounted/copied, then the entry_script is run. While the job is running, stdout and the ./logs directory are streamed to the run history. You can monitor the run's progress using these logs.\n",
    "\n",
    "- **Post-Processing**: The ./outputs directory of the run is copied over to the run history in your workspace so you can access these results.\n",
    "\n",
    "\n",
    "You can check the progress of a running job in multiple ways. This tutorial uses a Jupyter widget as well as a `wait_for_completion` method. \n",
    "\n",
    "### Jupyter widget\n",
    "\n",
    "Watch the progress of the run with a Jupyter widget.  Like the run submission, the widget is asynchronous and provides live updates every 10-15 seconds until the job completes. \n",
    "\n",
    "Note: Currently, there is a problem with RunDetails widget in DSVM. "
   ]
  },
  {
   "cell_type": "code",
   "execution_count": null,
   "metadata": {},
   "outputs": [],
   "source": [
    "from azureml.train.widgets import RunDetails\n",
    "RunDetails(run).show()"
   ]
  },
  {
   "cell_type": "markdown",
   "metadata": {},
   "source": [
    "### Get log results upon completion\n",
    "\n",
    "Model training and monitoring happen in the background. Wait until the model has completed training before running more code. "
   ]
  },
  {
   "cell_type": "code",
   "execution_count": null,
   "metadata": {},
   "outputs": [],
   "source": [
    "run.wait_for_completion(show_output=False) # specify True for a verbose log"
   ]
  },
  {
   "cell_type": "markdown",
   "metadata": {},
   "source": [
    "### Display run results\n",
    "\n",
    "The training has completed. You can see the logs generated during the run by executing `Run.get_file_names()` method."
   ]
  },
  {
   "cell_type": "code",
   "execution_count": null,
   "metadata": {},
   "outputs": [],
   "source": [
    "print(run.get_file_names())"
   ]
  },
  {
   "cell_type": "markdown",
   "metadata": {},
   "source": [
    "## Next Step\n",
    "\n",
    "You can improve the performance of the network by fine tuning hyper-parameters. In the next part of the lab you will use AML technology called `hyperdrive` to try different combinations of hyper parameters by running concurrent training job on a GPU cluser.\n",
    "\n",
    " Continue to `03-hyperdrive`"
   ]
  },
  {
   "cell_type": "markdown",
   "metadata": {},
   "source": [
    "## Clean up resources\n",
    "\n",
    "Before you move to the next step, you can delete the GPU VM. We will not need it anymore."
   ]
  },
  {
   "cell_type": "code",
   "execution_count": null,
   "metadata": {},
   "outputs": [],
   "source": [
    "dsvm_compute.delete()"
   ]
  },
  {
   "cell_type": "code",
   "execution_count": null,
   "metadata": {},
   "outputs": [],
   "source": []
  }
 ],
 "metadata": {
  "kernelspec": {
   "display_name": "Python 3.6 - AzureML",
   "language": "python",
   "name": "python3-azureml"
  }
 },
 "nbformat": 4,
 "nbformat_minor": 2
}
