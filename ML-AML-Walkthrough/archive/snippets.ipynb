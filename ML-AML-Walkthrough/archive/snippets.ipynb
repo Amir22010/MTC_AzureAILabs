{
 "cells": [
  {
   "cell_type": "markdown",
   "metadata": {},
   "source": [
    "### Prepare training pipeline\n",
    "\n",
    "#### Configure feature transformations\n",
    "\n",
    "`Scikit-learn` estimators expect continuous input. Some of the features in the dataset are categorical and encoded as `strings`. We will use *one-hot* encoding to convert categorical features to numeric values. Since we are going to use *LogisticRegression*, we also need to scale numeric features."
   ]
  },
  {
   "cell_type": "code",
   "execution_count": null,
   "metadata": {},
   "outputs": [],
   "source": [
    "\n",
    "# One hot encode all categorical features \n",
    "from sklearn.preprocessing import OneHotEncoder\n",
    "from sklearn.compose import ColumnTransformer\n",
    "from sklearn.preprocessing import StandardScaler\n",
    "\n",
    "ohenc = OneHotEncoder(sparse=False, handle_unknown='ignore')\n",
    "scaler = StandardScaler()\n",
    "\n",
    "categorical_columns = train_raw.select_dtypes(include=[object]).columns\n",
    "numeric_columns = train_raw.drop(columns=categorical_columns.tolist()+['y']).columns\n",
    "\n",
    "ct = ColumnTransformer(\n",
    "    [('onehot', ohenc, categorical_columns),\n",
    "     ('scaler', scaler, numeric_columns)],\n",
    "     remainder='passthrough'\n",
    "     )"
   ]
  }
 ],
 "metadata": {
  "kernelspec": {
   "display_name": "Python 3.6 - AzureML",
   "language": "python",
   "name": "python3-azureml"
  },
  "language_info": {
   "codemirror_mode": {
    "name": "ipython",
    "version": 3
   },
   "file_extension": ".py",
   "mimetype": "text/x-python",
   "name": "python",
   "nbconvert_exporter": "python",
   "pygments_lexer": "ipython3",
   "version": "3.6.7"
  }
 },
 "nbformat": 4,
 "nbformat_minor": 2
}
